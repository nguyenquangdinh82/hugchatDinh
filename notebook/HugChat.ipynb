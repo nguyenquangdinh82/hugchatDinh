{
  "nbformat": 4,
  "nbformat_minor": 0,
  "metadata": {
    "colab": {
      "provenance": [],
      "include_colab_link": true
    },
    "kernelspec": {
      "name": "python3",
      "display_name": "Python 3"
    },
    "language_info": {
      "name": "python"
    }
  },
  "cells": [
    {
      "cell_type": "markdown",
      "metadata": {
        "id": "view-in-github",
        "colab_type": "text"
      },
      "source": [
        "<a href=\"https://colab.research.google.com/github/nguyenquangdinh82/hugchatDinh/blob/master/notebook/HugChat.ipynb\" target=\"_parent\"><img src=\"https://colab.research.google.com/assets/colab-badge.svg\" alt=\"Open In Colab\"/></a>"
      ]
    },
    {
      "cell_type": "markdown",
      "source": [
        "# **How to use HugChat - the unofficial Hugging Chat API**"
      ],
      "metadata": {
        "id": "R4FiZs77vKXr"
      }
    },
    {
      "cell_type": "markdown",
      "source": [
        "## **Install prerequisite libraries**"
      ],
      "metadata": {
        "id": "6jmfeB1PvL8_"
      }
    },
    {
      "cell_type": "code",
      "execution_count": 2,
      "metadata": {
        "colab": {
          "base_uri": "https://localhost:8080/"
        },
        "id": "g9bTbqH96XS2",
        "outputId": "de282cc8-8c26-4795-84e9-131dd09d4e3a"
      },
      "outputs": [
        {
          "output_type": "stream",
          "name": "stdout",
          "text": [
            "Requirement already satisfied: hugchat~=0.2.6 in /usr/local/lib/python3.11/dist-packages (0.2.9)\n",
            "Requirement already satisfied: python-dotenv in /usr/local/lib/python3.11/dist-packages (1.1.0)\n",
            "Requirement already satisfied: requests in /usr/local/lib/python3.11/dist-packages (from hugchat~=0.2.6) (2.32.3)\n",
            "Requirement already satisfied: requests-toolbelt in /usr/local/lib/python3.11/dist-packages (from hugchat~=0.2.6) (1.0.0)\n",
            "Requirement already satisfied: charset-normalizer<4,>=2 in /usr/local/lib/python3.11/dist-packages (from requests->hugchat~=0.2.6) (3.4.1)\n",
            "Requirement already satisfied: idna<4,>=2.5 in /usr/local/lib/python3.11/dist-packages (from requests->hugchat~=0.2.6) (3.10)\n",
            "Requirement already satisfied: urllib3<3,>=1.21.1 in /usr/local/lib/python3.11/dist-packages (from requests->hugchat~=0.2.6) (2.3.0)\n",
            "Requirement already satisfied: certifi>=2017.4.17 in /usr/local/lib/python3.11/dist-packages (from requests->hugchat~=0.2.6) (2025.1.31)\n"
          ]
        }
      ],
      "source": [
        "! pip install hugchat~=0.2.6 python-dotenv"
      ]
    },
    {
      "cell_type": "markdown",
      "source": [
        "## **Load Hugging Face credentials**"
      ],
      "metadata": {
        "id": "tXioNOYMv1ti"
      }
    },
    {
      "cell_type": "code",
      "source": [
        "from dotenv import dotenv_values\n",
        "from google.colab import userdata as secrets"
      ],
      "metadata": {
        "id": "tdJjllXGueGX"
      },
      "execution_count": 2,
      "outputs": []
    },
    {
      "cell_type": "code",
      "source": [
        "hf_email = secrets.get('EMAIL');\n",
        "hf_pass = secrets.get('PASS');"
      ],
      "metadata": {
        "id": "tNHBfLF788f2"
      },
      "execution_count": 3,
      "outputs": []
    },
    {
      "cell_type": "markdown",
      "source": [
        "## **LLM response generation**"
      ],
      "metadata": {
        "id": "_yc18ezBzML6"
      }
    },
    {
      "cell_type": "code",
      "source": [],
      "metadata": {
        "id": "H21niuMc8xcv"
      },
      "execution_count": 5,
      "outputs": []
    },
    {
      "cell_type": "code",
      "source": [
        "import hugchat\n",
        "import hugchat.hugchat\n",
        "from hugchat.login import Login\n",
        "\n",
        "EMAIL = \"nguyenquangdinh82@gmail.com\"\n",
        "PASSWD = \"1Heaven051174\"\n",
        "email = \"nguyenquangdinh82@gmail.com\"\n",
        "password = \"1Heaven051174\"\n",
        "cookie_path_dir = \"cookies/\" # NOTE: trailing slash (/) is required to avoid errors\n",
        "sign = Login(EMAIL, PASSWD)\n",
        "cookies = sign.login(cookie_path_dir, True)\n",
        "assert cookies is not None\n",
        "chatbot = hugchat.hugchat.ChatBot(cookies=cookies.get_dict(), default_llm=0)\n",
        "models = chatbot.get_available_llm_models()\n",
        "for obj in models:\n",
        "  print(obj)\n",
        "print(chatbot.chat(\"Hi!\").wait_until_done())"
      ],
      "metadata": {
        "id": "4k9iUzyWzwSh",
        "outputId": "099398da-63c7-4ab5-fafb-5cf94090735c",
        "colab": {
          "base_uri": "https://localhost:8080/",
          "height": 211
        }
      },
      "execution_count": 6,
      "outputs": [
        {
          "output_type": "error",
          "ename": "TypeError",
          "evalue": "Login.login() got an unexpected keyword argument 'cookie_dir_path'",
          "traceback": [
            "\u001b[0;31m---------------------------------------------------------------------------\u001b[0m",
            "\u001b[0;31mTypeError\u001b[0m                                 Traceback (most recent call last)",
            "\u001b[0;32m<ipython-input-6-00e404c00702>\u001b[0m in \u001b[0;36m<cell line: 0>\u001b[0;34m()\u001b[0m\n\u001b[1;32m      9\u001b[0m \u001b[0mcookie_path_dir\u001b[0m \u001b[0;34m=\u001b[0m \u001b[0;34m\"cookies/\"\u001b[0m \u001b[0;31m# NOTE: trailing slash (/) is required to avoid errors\u001b[0m\u001b[0;34m\u001b[0m\u001b[0;34m\u001b[0m\u001b[0m\n\u001b[1;32m     10\u001b[0m \u001b[0msign\u001b[0m \u001b[0;34m=\u001b[0m \u001b[0mLogin\u001b[0m\u001b[0;34m(\u001b[0m\u001b[0mEMAIL\u001b[0m\u001b[0;34m,\u001b[0m \u001b[0mPASSWD\u001b[0m\u001b[0;34m)\u001b[0m\u001b[0;34m\u001b[0m\u001b[0;34m\u001b[0m\u001b[0m\n\u001b[0;32m---> 11\u001b[0;31m \u001b[0mcookies\u001b[0m \u001b[0;34m=\u001b[0m \u001b[0msign\u001b[0m\u001b[0;34m.\u001b[0m\u001b[0mlogin\u001b[0m\u001b[0;34m(\u001b[0m\u001b[0mcookie_dir_path\u001b[0m\u001b[0;34m=\u001b[0m\u001b[0mcookie_path_dir\u001b[0m\u001b[0;34m,\u001b[0m \u001b[0msave_cookies\u001b[0m\u001b[0;34m=\u001b[0m\u001b[0;32mTrue\u001b[0m\u001b[0;34m)\u001b[0m\u001b[0;34m\u001b[0m\u001b[0;34m\u001b[0m\u001b[0m\n\u001b[0m\u001b[1;32m     12\u001b[0m \u001b[0;32massert\u001b[0m \u001b[0mcookies\u001b[0m \u001b[0;32mis\u001b[0m \u001b[0;32mnot\u001b[0m \u001b[0;32mNone\u001b[0m\u001b[0;34m\u001b[0m\u001b[0;34m\u001b[0m\u001b[0m\n\u001b[1;32m     13\u001b[0m \u001b[0mchatbot\u001b[0m \u001b[0;34m=\u001b[0m \u001b[0mhugchat\u001b[0m\u001b[0;34m.\u001b[0m\u001b[0mhugchat\u001b[0m\u001b[0;34m.\u001b[0m\u001b[0mChatBot\u001b[0m\u001b[0;34m(\u001b[0m\u001b[0mcookies\u001b[0m\u001b[0;34m=\u001b[0m\u001b[0mcookies\u001b[0m\u001b[0;34m.\u001b[0m\u001b[0mget_dict\u001b[0m\u001b[0;34m(\u001b[0m\u001b[0;34m)\u001b[0m\u001b[0;34m,\u001b[0m \u001b[0mdefault_llm\u001b[0m\u001b[0;34m=\u001b[0m\u001b[0;36m0\u001b[0m\u001b[0;34m)\u001b[0m\u001b[0;34m\u001b[0m\u001b[0;34m\u001b[0m\u001b[0m\n",
            "\u001b[0;31mTypeError\u001b[0m: Login.login() got an unexpected keyword argument 'cookie_dir_path'"
          ]
        }
      ]
    },
    {
      "cell_type": "code",
      "source": [],
      "metadata": {
        "id": "aIWbxGM-1LDh"
      },
      "execution_count": null,
      "outputs": []
    }
  ]
}