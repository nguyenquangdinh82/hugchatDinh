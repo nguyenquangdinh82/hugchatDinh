{
  "nbformat": 4,
  "nbformat_minor": 0,
  "metadata": {
    "colab": {
      "provenance": [],
      "include_colab_link": true
    },
    "kernelspec": {
      "name": "python3",
      "display_name": "Python 3"
    },
    "language_info": {
      "name": "python"
    }
  },
  "cells": [
    {
      "cell_type": "markdown",
      "metadata": {
        "id": "view-in-github",
        "colab_type": "text"
      },
      "source": [
        "<a href=\"https://colab.research.google.com/github/nguyenquangdinh82/hugchatDinh/blob/master/notebook/HugChat.ipynb\" target=\"_parent\"><img src=\"https://colab.research.google.com/assets/colab-badge.svg\" alt=\"Open In Colab\"/></a>"
      ]
    },
    {
      "cell_type": "markdown",
      "source": [
        "# **How to use HugChat - the unofficial Hugging Chat API**"
      ],
      "metadata": {
        "id": "R4FiZs77vKXr"
      }
    },
    {
      "cell_type": "markdown",
      "source": [
        "## **Install prerequisite libraries**"
      ],
      "metadata": {
        "id": "6jmfeB1PvL8_"
      }
    },
    {
      "cell_type": "code",
      "execution_count": 1,
      "metadata": {
        "colab": {
          "base_uri": "https://localhost:8080/"
        },
        "id": "g9bTbqH96XS2",
        "outputId": "c3d7856f-f19d-4145-b36b-bad765c4247a"
      },
      "outputs": [
        {
          "output_type": "stream",
          "name": "stdout",
          "text": [
            "Requirement already satisfied: hugchat in /usr/local/lib/python3.11/dist-packages (0.4.19)\n",
            "Requirement already satisfied: requests in /usr/local/lib/python3.11/dist-packages (from hugchat) (2.32.3)\n",
            "Requirement already satisfied: requests_toolbelt in /usr/local/lib/python3.11/dist-packages (from hugchat) (1.0.0)\n",
            "Requirement already satisfied: charset-normalizer<4,>=2 in /usr/local/lib/python3.11/dist-packages (from requests->hugchat) (3.4.1)\n",
            "Requirement already satisfied: idna<4,>=2.5 in /usr/local/lib/python3.11/dist-packages (from requests->hugchat) (3.10)\n",
            "Requirement already satisfied: urllib3<3,>=1.21.1 in /usr/local/lib/python3.11/dist-packages (from requests->hugchat) (2.3.0)\n",
            "Requirement already satisfied: certifi>=2017.4.17 in /usr/local/lib/python3.11/dist-packages (from requests->hugchat) (2025.1.31)\n"
          ]
        }
      ],
      "source": [
        "!pip install --upgrade hugchat"
      ]
    },
    {
      "cell_type": "markdown",
      "source": [
        "## **Load Hugging Face credentials**"
      ],
      "metadata": {
        "id": "tXioNOYMv1ti"
      }
    },
    {
      "cell_type": "code",
      "source": [
        "from dotenv import dotenv_values\n",
        "from google.colab import userdata as secrets"
      ],
      "metadata": {
        "id": "tdJjllXGueGX"
      },
      "execution_count": 2,
      "outputs": []
    },
    {
      "cell_type": "code",
      "source": [
        "hf_email = secrets.get('EMAIL');\n",
        "hf_pass = secrets.get('PASS');"
      ],
      "metadata": {
        "id": "tNHBfLF788f2"
      },
      "execution_count": 3,
      "outputs": []
    },
    {
      "cell_type": "markdown",
      "source": [
        "## **LLM response generation**"
      ],
      "metadata": {
        "id": "_yc18ezBzML6"
      }
    },
    {
      "cell_type": "code",
      "source": [],
      "metadata": {
        "id": "H21niuMc8xcv"
      },
      "execution_count": 5,
      "outputs": []
    },
    {
      "cell_type": "code",
      "source": [
        "from hugchat import hugchat\n",
        "chatbot = hugchat.ChatBot(cookie_path=\"./nguyenquangdinh82@gmail.com.json\")  # or cookies=[...]\n",
        "conversation_list = chatbot.get_remote_conversations(replace_conversation_list=True)\n",
        "print(conversation_list)\n",
        "# Get information about the current conversation\n",
        "curr = chatbot.get_conversation_info()\n",
        "chatbot.change_conversation(curr)\n",
        "print(chatbot.chat(\"who are you?\"))"
      ],
      "metadata": {
        "id": "4k9iUzyWzwSh",
        "colab": {
          "base_uri": "https://localhost:8080/"
        },
        "outputId": "4c012d91-5784-419a-af8e-f2975bb13da3"
      },
      "execution_count": 3,
      "outputs": [
        {
          "output_type": "stream",
          "name": "stdout",
          "text": [
            "[<hugchat.types.message.Conversation object at 0x7ecfba76d290>, <hugchat.types.message.Conversation object at 0x7ecfba5f4350>, <hugchat.types.message.Conversation object at 0x7ecfb9cfdd90>, <hugchat.types.message.Conversation object at 0x7ecfba628650>, <hugchat.types.message.Conversation object at 0x7ecfa0cb0710>]\n",
            "I'm an artificial intelligence model known as Llama. Llama stands for \"Large Language Model Meta AI.\"\n"
          ]
        }
      ]
    },
    {
      "cell_type": "markdown",
      "source": [],
      "metadata": {
        "id": "LCxgLSm_qfF4"
      }
    }
  ]
}